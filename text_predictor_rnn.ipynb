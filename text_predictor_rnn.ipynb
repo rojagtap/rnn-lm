{
  "nbformat": 4,
  "nbformat_minor": 0,
  "metadata": {
    "colab": {
      "name": "text_predictor_rnn.ipynb",
      "version": "0.3.2",
      "provenance": []
    },
    "kernelspec": {
      "name": "python3",
      "display_name": "Python 3"
    },
    "accelerator": "GPU"
  },
  "cells": [
    {
      "cell_type": "code",
      "metadata": {
        "id": "nbpBRXYtObSh",
        "colab_type": "code",
        "outputId": "9dab6b67-88e2-42cc-c39e-4c8941c34935",
        "colab": {
          "base_uri": "https://localhost:8080/",
          "height": 34
        }
      },
      "source": [
        "from google.colab import drive\n",
        "drive.mount('/content/gdrive')"
      ],
      "execution_count": 1,
      "outputs": [
        {
          "output_type": "stream",
          "text": [
            "Drive already mounted at /content/gdrive; to attempt to forcibly remount, call drive.mount(\"/content/gdrive\", force_remount=True).\n"
          ],
          "name": "stdout"
        }
      ]
    },
    {
      "cell_type": "code",
      "metadata": {
        "id": "mp3yLr3bSR_U",
        "colab_type": "code",
        "colab": {}
      },
      "source": [
        "data = open('/content/gdrive/My Drive/Colab Notebooks/data/text_predictor_rnn/kafka.txt', 'rt', encoding='utf8', errors='replace').read()\n",
        "\n",
        "# get unique characters in the book\n",
        "vocab = list(set(data))"
      ],
      "execution_count": 0,
      "outputs": []
    },
    {
      "cell_type": "code",
      "metadata": {
        "id": "1Indk6mLSxJu",
        "colab_type": "code",
        "outputId": "6bcd6052-2bdd-4edf-fd61-344416a17cac",
        "colab": {
          "base_uri": "https://localhost:8080/",
          "height": 34
        }
      },
      "source": [
        "# total length of characters and length of unique characters list\n",
        "data_size, vocab_size = len(data), len(vocab)\n",
        "print(data_size, vocab_size)"
      ],
      "execution_count": 3,
      "outputs": [
        {
          "output_type": "stream",
          "text": [
            "137627 80\n"
          ],
          "name": "stdout"
        }
      ]
    },
    {
      "cell_type": "code",
      "metadata": {
        "id": "Jjl0bMbPUh7b",
        "colab_type": "code",
        "colab": {}
      },
      "source": [
        "# {index: character} format for converting characters to numbers\n",
        "# and vice versa\n",
        "text_encoding = {ch: i for i, ch in enumerate(vocab)}\n",
        "text_decoding = {i: ch for i, ch in enumerate(vocab)}"
      ],
      "execution_count": 0,
      "outputs": []
    },
    {
      "cell_type": "code",
      "metadata": {
        "id": "9NZAR5w-Wtnp",
        "colab_type": "code",
        "colab": {}
      },
      "source": [
        "import numpy as np\n",
        "\n",
        "# if index of 'a' is 5 then vector for a will be [0, 0, 0, 0, 0, 1, 0, 0, .....]\n",
        "# encoding_vector = []\n",
        "# for i in range(vocab_size):\n",
        "#    vector = np.zeros(vocab_size)\n",
        "#    vector[text_encoding[vocab[i]]] = 1\n",
        "#    encoding_vector.append(vector)"
      ],
      "execution_count": 0,
      "outputs": []
    },
    {
      "cell_type": "code",
      "metadata": {
        "id": "Ij31GINti2bc",
        "colab_type": "code",
        "colab": {}
      },
      "source": [
        "# hyper parameters\n",
        "hidden_neurons = 128\n",
        "learning_rate = 0.1"
      ],
      "execution_count": 0,
      "outputs": []
    },
    {
      "cell_type": "code",
      "metadata": {
        "id": "5QE0WNA0i4hR",
        "colab_type": "code",
        "colab": {}
      },
      "source": [
        "# weights and biases\n",
        "Wxh = np.random.randn(hidden_neurons, vocab_size) * 0.01\n",
        "Whh = np.random.randn(hidden_neurons, hidden_neurons) * 0.01\n",
        "Why = np.random.randn(vocab_size, hidden_neurons) * 0.01\n",
        "bh = np.zeros((hidden_neurons, 1))\n",
        "by = np.zeros((vocab_size, 1))"
      ],
      "execution_count": 0,
      "outputs": []
    },
    {
      "cell_type": "code",
      "metadata": {
        "id": "_ciFGbcJlA_v",
        "colab_type": "code",
        "colab": {}
      },
      "source": [
        "def forward_pass(inputs, target, prev, loss):\n",
        "    # Calculate output\n",
        "    hidden_layer_1 = np.dot(Wxh, inputs)\n",
        "    hidden_layer_2 = np.dot(Whh, prev) + bh\n",
        "    hidden_layer = np.tanh(hidden_layer_1 + hidden_layer_2)\n",
        "    prev = hidden_layer\n",
        "    output_layer = np.dot(Why, hidden_layer) + by\n",
        "    \n",
        "    # Loss\n",
        "    p = np.exp(output_layer) / np.sum(np.exp(output_layer))\n",
        "    loss += -np.log(p[target])\n",
        "    return output_layer, prev, p, loss"
      ],
      "execution_count": 0,
      "outputs": []
    },
    {
      "cell_type": "code",
      "metadata": {
        "id": "M0wVW-phmC0O",
        "colab_type": "code",
        "colab": {}
      },
      "source": [
        "dWxh, dWhh, dWhy = np.zeros_like(Wxh), np.zeros_like(Whh), np.zeros_like(Why)\n",
        "dbh, dby = np.zeros_like(bh), np.zeros_like(by)\n",
        "dhnext = np.zeros((hidden_neurons, 1))\n",
        "\n",
        "\n",
        "def backward_pass(target, prev, hidden_layer, p, loss, dWxh, dWhh, dWhy, dbh, dby, dhnext):   \n",
        "    dy = np.copy(p)\n",
        "    dy[target] -= 1\n",
        "    \n",
        "    dWhy += np.dot(dy, hidden_layer.T)\n",
        "    dby += dy\n",
        "    \n",
        "    dh = np.dot(Why.T, dy) + dhnext\n",
        "    \n",
        "    dhraw = (1 - hidden_layer * hidden_layer) * dh\n",
        "    \n",
        "    dbh += dhraw\n",
        "    dWxh += np.dot(dhraw, inputs.T)\n",
        "    dWhh += np.dot(dhraw, prev.T)\n",
        "    dhnext = np.dot(Whh.T, dhraw)\n",
        "    \n",
        "    for dparam in [dWxh, dWhh, dWhy, dbh, dby]:\n",
        "        np.clip(dparam, -5, 5, out=dparam)\n",
        "        \n",
        "    return dWxh, dWhh, dWhy, dbh, dby, dhnext"
      ],
      "execution_count": 0,
      "outputs": []
    },
    {
      "cell_type": "code",
      "metadata": {
        "id": "Cd3mOYC1R7Bq",
        "colab_type": "code",
        "colab": {}
      },
      "source": [
        "n, p = 0, 0\n",
        "mWxh, mWhh, mWhy = np.zeros_like(Wxh), np.zeros_like(Whh), np.zeros_like(Why)\n",
        "mbh, mby = np.zeros_like(bh), np.zeros_like(by)                                                                                                                "
      ],
      "execution_count": 0,
      "outputs": []
    },
    {
      "cell_type": "code",
      "metadata": {
        "id": "HCeWvT4Zj0zE",
        "colab_type": "code",
        "colab": {}
      },
      "source": [
        "def print_char(input_sequence):\n",
        "    print(text_decoding[list(input_sequence).index(np.max(input_sequence))], end=\"\")"
      ],
      "execution_count": 0,
      "outputs": []
    },
    {
      "cell_type": "code",
      "metadata": {
        "id": "GIQVIyiWh-3y",
        "colab_type": "code",
        "colab": {
          "base_uri": "https://localhost:8080/",
          "height": 3394
        },
        "outputId": "25b875da-61f4-4935-bcb4-3516f4b43deb"
      },
      "source": [
        "for i in range(10000):\n",
        "    prev = np.zeros((hidden_neurons, 1))\n",
        "    loss = 0    \n",
        "    if i % 100 == 0:\n",
        "        print(\"\\nIteration: \" + str(i))\n",
        "    for j in range(100):\n",
        "        inputs = np.zeros((vocab_size, 1))\n",
        "        inputs[text_encoding[data[j]]] = 1\n",
        "        target = text_encoding[data[j + 1]]\n",
        "        \n",
        "        output, hidden_layer, p, loss = forward_pass(inputs, target, prev, loss)\n",
        "        dWxh, dWhh, dWhy, dbh, dby, dhnext = backward_pass(target, prev, hidden_layer, p, loss, dWxh, dWhh, dWhy, dbh, dby, dhnext)\n",
        "        \n",
        "        prev = hidden_layer\n",
        "        if i % 100 == 0:\n",
        "            print_char(output)\n",
        "    for param, dparam, mem in zip([Wxh, Whh, Why, bh, by],\n",
        "                            [dWxh, dWhh, dWhy, dbh, dby],\n",
        "                            [mWxh, mWhh, mWhy, mbh, mby]):\n",
        "        mem += dparam * dparam\n",
        "        param += -learning_rate * dparam / np.sqrt(mem + 1e-8)"
      ],
      "execution_count": 12,
      "outputs": [
        {
          "output_type": "stream",
          "text": [
            "\n",
            "Iteration: 0\n",
            "Vl5nnN S1�O,nOx5Sn@ 5ON n@gnoKnON65no NnnG NST)5,n, 5gno,nx5noNSS,nx1no5)PnG gSooN n5,n1�nx1onT5,n1�\n",
            "Iteration: 100\n",
            "nenGmenmewGiendso men knyiendswrrenmen meadsn mwdren merreo iendsn mwdrenmmodreoGmendsgGmworenmen re\n",
            "Iteration: 200\n",
            "ne esres k,f\", dem es n, l)ylm7kem ns kefl,fa8) es e rld \"G tem es le l, kem ls nG lgtlm tem esrk,f\"\n",
            "Iteration: 300\n",
            "ne moa sngf tke fgtrGdrmob oa ot e i tf wfe fGtrfdrmoa otfn i tf ofe sGtfGtrfebfor od o sn mGtfG fGt\n",
            "Iteration: 400\n",
            "ne morrrq/)nrana nrenn mr nsenn,me mrornoenu hod a n esa fid auno fidsednamnoe a reeg,dnaen mfed ams\n",
            "Iteration: 500\n",
            "ne morni oo wae  rre ou bamse wou aunarnernu leu amnamse ferbrrnarwemsamf una io rend rnaun mw m amt\n",
            "Iteration: 600\n",
            "ne morodr , h  rthrhnsuord s,mreue hraustrsunro  hne ns, henr un  hensa f iramraurald en h s bem enr\n",
            "Iteration: 700\n",
            "ne moGningi fimdeirogsumhansanwou dGrerserndnlmdst edmsf wmdr rsd hi seGsirremh,drme  Gseiea we ntnt\n",
            "Iteration: 800\n",
            "ne moro  f mhiin hrodfu ha sa rere ir unirsublel i ou sa hirh und himfedf mr   a oo n Gr Ges h d ine\n",
            "Iteration: 900\n",
            "ne morrimso woen Groeou wemse woke trer irfr led ioeemse widroun  hinsedeitrongeoroen tn Gi  hed tns\n",
            "Iteration: 1000\n",
            "ne mornimg, hhin gragnu hamsenfhre freundrnublel doea se he found hemsedf mronsfore t fn gis  ed dnd\n",
            "Iteration: 1100\n",
            "ne morninf, Soe  tra fr Sams,nSoue tfom drermled dreams, Se Sound Senself transeoraed in Gns Sed dnf\n",
            "Iteration: 1200\n",
            "ne mornimw, woen Gregor Samsemwoke from iroubled ireamse wi founa winself tronweoroen in Gis bed ins\n",
            "Iteration: 1300\n",
            "ne morning, bheo Gradou Samsemwoke fram droubled dreamse wi foun rhimsedf tronsioroed Gn Gis be  dnt\n",
            "Iteration: 1400\n",
            "ne mornans, whed Grmgou Samsa woke Gremndroubleg dre  sa he foundrhensa f hrmnsformed in his bed inf\n",
            "Iteration: 1500\n",
            "ne morneng, hhedffregor Samsamwhke frem trorbled tre msa hi found himsflf frmnsformed inohis hed det\n",
            "Iteration: 1600\n",
            "ne morrins, hhen frmgou Samsemshke tr mrtroubled ireamse hi fomn  hinself hrantformen in his bed int\n",
            "Iteration: 1700\n",
            "ne morneet, w en Grmgeu Samsanw me Grersiroubled dre msa wf f un ohins,df GransforogS Gn his wed int\n",
            "Iteration: 1800\n",
            "ne morninr, woedatrogor Samsamhoke from iroubled ieeansa he foun  dinself tramwforeed fn Gis bed int\n",
            "Iteration: 1900\n",
            "ne morning, woed trelou Samse wokd frem droubled irramse he found tinself Grengforeed in his bel dnt\n",
            "Iteration: 2000\n",
            "ne mornint, hoen Gregor Sams,mwoke trom trorbled ireamsa hi found himsalf hransforaed in his bid dns\n",
            "Iteration: 2100\n",
            "ne mornimg, woen Gregou Sams, wokedf om droubled dreams, we foun  himself iranneormen in his bed dnt\n",
            "Iteration: 2200\n",
            "ne morning, when hregor Samsanwhke frorstrorblel drea sa we foun  hemself hrantformed in his bed dns\n",
            "Iteration: 2300\n",
            "ne mornf s, woen Gregou Samse woke i mm trounlel iroa se he found hemself hrmnsformen fndhis bdd int\n",
            "Iteration: 2400\n",
            "ne mornongo woen Gregou Samsanwomi frmm tror led dreabse he foun  himsedf Grangforoed indGis bed inl\n",
            "Iteration: 2500\n",
            "ne morning, when Grelou Samsa woke from troubled dreamsa he foun  himselfoiransforoed hn fis bdd imt\n",
            "Iteration: 2600\n",
            "ne mornhnn, hhen Gredru wams, woke frog troubleg dreams, he foun  wens,lf Grensformen in his bed img\n",
            "Iteration: 2700\n",
            "ne morning, woen Gregou Sams, woke frok troubneg treamse wi iound hemself trmns,ormed in his bed emt\n",
            "Iteration: 2800\n",
            "ne morning, hoed trogou Samsemwoke from troubled ireams, he Sound hense f irmnsformed fn his bed imt\n",
            "Iteration: 2900\n",
            "ne morning, hhendGregou Samse woke frok droubled drea s, he hound hinself fransformed fn hos bed dmt\n",
            "Iteration: 3000\n",
            "ne morning, hhen Gredor Samsamwoke frim dreu leg dreams, he foun  henself transforaed fndhis bed dnt\n",
            "Iteration: 3100\n",
            "ne morning, hoen fredou Samsantome froh trnubled ireamsa ti fotnd hinself hra sformed fn tis bed int\n",
            "Iteration: 3200\n",
            "ne morning, hhen fregor Samsanwoke from troubleg ireamsa ho foundrhinsalf transforaed in his bed int\n",
            "Iteration: 3300\n",
            "ne morning, when Gregou Samsa woke from troublel ireamse wi foundrhinself transformgd indhis bed int\n",
            "Iteration: 3400\n",
            "ne morning, when Gregou Sams, woke from troubled ireams, he foundrhimself hransformed in his bed img\n",
            "Iteration: 3500\n",
            "ne morning, when Gragou Samsa boke frmm droubled dreamsa wi f und hims,lf transforaen in his bed dmt\n",
            "Iteration: 3600\n",
            "ne morning, hhen Gregor Samsa woke from troubled dreams, helbound hemself transformed indhis bed dnt\n",
            "Iteration: 3700\n",
            "ne morning, hhen hredourSamsa wokeaurem droubled ireams, he found hemself hrans,ormed hn his bed imt\n",
            "Iteration: 3800\n",
            "ne mornint, hhen hrelorbSams, wmke trek hroubleg ireams, he iound himselfdGransformed in fis bed ing\n",
            "Iteration: 3900\n",
            "ne morning, woeeouredor Sams,mwoke from troubled ireams, hi found henself hramsformed tn his bed ing\n",
            "Iteration: 4000\n",
            "ne mornins, when Gredor Sams, woke orok troubled dreams, he found himself transformed in his bed int\n",
            "Iteration: 4100\n",
            "ne morning, when uregor Samsa woke frem troubled dreamsa he found hinself hransformed in Gis bed int\n",
            "Iteration: 4200\n",
            "ne morninw, when Gre fr Sams, whke tr m troubl,d d ea s, we found hims,lf iransformed in his bed dmt\n",
            "Iteration: 4300\n",
            "ne morning, hhen uredor Samsemwoke hrou troubled ireams, he bound hemself transformed in fis bed int\n",
            "Iteration: 4400\n",
            "ne morning, whenitregor Samsa whke Groi trorbl,l ireamsa he Soun  himself transformed tn f s bad inh\n",
            "Iteration: 4500\n",
            "ne morning, when uregor Samse woke hrem trorbl,d dreamse heefoundrhimsilf hransformed tn Gis bed inw\n",
            "Iteration: 4600\n",
            "ne morning, when Gregor Sams, woke from troubled ireams, he hound winself hransformed in his bed int\n",
            "Iteration: 4700\n",
            "ne morning, when Gregou Sams,mdoke from troubled t ea sa he houn  hems,lf hransformed in his bed int\n",
            "Iteration: 4800\n",
            "ne morning, when tre nr fams, woke frem troubled ireamsa he founi winself transformed in his bed int\n",
            "Iteration: 4900\n",
            "ne morning, when Gregor Sams, wokeafrom troubled dre, se he found fimself transformed hn ifs bed int\n",
            "Iteration: 5000\n",
            "ne morning, when Gregor Sdms, woke from troubled d eamse he f une himself transformed in his bed dnt\n",
            "Iteration: 5100\n",
            "ne mornimg, whed Gregor Sams,mwome from troubled ireams, he found hinselfdtransformed in tis bed int\n",
            "Iteration: 5200\n",
            "ne morning, woendfregor Sams, whke Grom tkoubled i ea sa he founa dens,lf transformed tn iis bedsdnh\n",
            "Iteration: 5300\n",
            "ne morning, when Gregor fams, woke from troubled ireamse te founa himself transformed in his bed dng\n",
            "Iteration: 5400\n",
            "ne morning, whenoGregor wams, wokedfrom drorbled dreams, wi wound hins,lf trensformed in Gis bed ing\n",
            "Iteration: 5500\n",
            "ne mornint, when Gregor Sams, woke from troubled droams, hodfrmnd Simself transformed in tis bed dnt\n",
            "Iteration: 5600\n",
            "ne morning, hhed Gregor wams, woke irom troubled ireams, te found hemselfotrmnsformed in tis bed int\n",
            "Iteration: 5700\n",
            "ne morning, hhen hr,dor famsemwhke from troubled d eamse we found himsalf transformed in his bed dmg\n",
            "Iteration: 5800\n",
            "ne morning, hhen Gregor Samse woke from troubled dreamse he hound hinself transformed in his bed dmt\n",
            "Iteration: 5900\n",
            "ne mornint, hhen Gregou famse woke from troubled dreamse he found himself transformed in his bed inw\n",
            "Iteration: 6000\n",
            "ne morning, hhen Gregor Sams, wokeafroksdroubled iroams, he foun  fe s,gf trangformed in his bed dng\n",
            "Iteration: 6100\n",
            "ne mornint, when Gregor Samse woke frok troubled dreams, he fimnd himself transformed in tis bed dnt\n",
            "Iteration: 6200\n",
            "ne morning, hhen fregor Sams,mwome from troubleg ireamsa he found himsalf iransformed in tis fed tng\n",
            "Iteration: 6300\n",
            "ne morning, hhen Gregor Sams, wome irok troubled dreams, he found himself transformed fn his bed dmt\n",
            "Iteration: 6400\n",
            "ne morning, when Gredor Samsa wome Grom troubled ireams, he found himgelf transformed in his bed int\n",
            "Iteration: 6500\n",
            "ne morning, hhen Gredor Sams, woke from troubleg droa s, he found hemself transformed in his bed imt\n",
            "Iteration: 6600\n",
            "ne morning, when hregor Samsa Soke from troubleg ireamsa he found hi self transformed in his bed imt\n",
            "Iteration: 6700\n",
            "ne morning, when Gregor Samsa woke from troubled dreams, bi tound himself transformed in his bed int\n",
            "Iteration: 6800\n",
            "ne morning, Shen Gregor Samsa woke from troubled ireamsa Se found hemself transformed in his bed int\n",
            "Iteration: 6900\n",
            "ne morning, woed Gr,gor Samsa woke Grer droubled iriamse he fiund hemse f iransformed in his bed tnt\n",
            "Iteration: 7000\n",
            "ne morning, when Gregor Samsa woke from troubled ireams, he found himself transformed in his bed int\n",
            "Iteration: 7100\n",
            "ne morning, when Gregor Samsa woke from troubled ireamsa te found himself transformed hn his bed ing\n",
            "Iteration: 7200\n",
            "ne morning, whed Gredor Sams, woke from trerbled ireams, he Sound himself transformen in his bed int\n",
            "Iteration: 7300\n",
            "ne mornong, when Gregor Sams, woke from trerbled irea s, he woknd henself transformen in his bed dnt\n",
            "Iteration: 7400\n",
            "ne morning, when Gregor Sams, woke irom troubled ireams, he found bemself transformed fn his bed int\n",
            "Iteration: 7500\n",
            "ne morning, wheniGregor Sams, woke from troubled imeams, we hound himself transformed in his he  int\n",
            "Iteration: 7600\n",
            "ne morning, when Gregor Samsamwoke irom troubled irea s, we found himself Gransformed in tos bed int\n",
            "Iteration: 7700\n",
            "ne mornint, when Gregor Sams, Some frountroubled dreams, hi wound himself transformed in his bed int\n",
            "Iteration: 7800\n",
            "ne morning, whed Gregor Sams, woke from trorbled ireams, he found himself transformed in his bed dnt\n",
            "Iteration: 7900\n",
            "ne morning, when Gregor Sams, woke from troubled dreams, he found hemself transformed in his bed int\n",
            "Iteration: 8000\n",
            "ne morning, hhentGregor Sams, woke from troubled droams, he foun  hemself fransformed in his bed int\n",
            "Iteration: 8100\n",
            "ne mornint, whenimregouenams, woke irom troubled ireams, hi found hemsegf transformed in his bed int\n",
            "Iteration: 8200\n",
            "ne morning, hhed Gregor Sams, whke irom trouble  droa sa he found femse f transformed in Gis bed dnt\n",
            "Iteration: 8300\n",
            "ne morning, hhendGregor Samsfmwoue frmm troubned dreamsf we woknd himself Gransformed hn Gis bed dnt\n",
            "Iteration: 8400\n",
            "ne morning, when Gregor Samse Soke fr t troubled ireamse he foknd himeelf transformed in his bed tnt\n",
            "Iteration: 8500\n",
            "ne morning, whenoGregor Samsa woke from troubled ireamsa he found hemsalf transformed hn his bed imt\n",
            "Iteration: 8600\n",
            "ne morning, when Gregor Sams, woke from troubled dreams, he found hims,lf trans,ormed in his bed dnt\n",
            "Iteration: 8700\n",
            "ne morning, when Gregor Samsa whke from troubled dreamsa we found himself transformed tn his bed dnt\n",
            "Iteration: 8800\n",
            "ne morning, hhen Gregor Samse woke from troubled ireamse he found hemself transformed in his bed int\n",
            "Iteration: 8900\n",
            "ne morning, when Gregor Sams, woke from troubled ireamsa we hound himself transformen in Gis bed int\n",
            "Iteration: 9000\n",
            "ne morning, when Gregor Sams, Soke from droubled ireams, he found himself transformed in his bed int\n",
            "Iteration: 9100\n",
            "ne morning, hhen Gregor Sams, woke fr m troubled dre ms, he found himself transformed in his bed dnt\n",
            "Iteration: 9200\n",
            "ne morning, when Gregor Samse foke from troubled ireamse he found himself transformed in his bed int\n",
            "Iteration: 9300\n",
            "ne morning, when Gragor Samse woke from troubled dreamse hd found oimself trantformed hn his bed dnt\n",
            "Iteration: 9400\n",
            "ne morning, when Gregor Samse woke from troubled dreamse Se found himsalf transformed in his bed int\n",
            "Iteration: 9500\n",
            "ne morning, when Gregor wamsa whke from uroubled dre msa he found fdmsalf trangformed in his bed int\n",
            "Iteration: 9600\n",
            "ne morntnw, hhen Gregor Samsa woke from troubled dreamsa hi found himsalf transformed in his bed int\n",
            "Iteration: 9700\n",
            "ne mornint, hhen Gregor Sams, woke from troubled ireams, he found hemsalf transformed in his bed int\n",
            "Iteration: 9800\n",
            "ne morning, when Gregoo Samse woke from troubled dreams, we found hims,lf transformen in iis bed int\n",
            "Iteration: 9900\n",
            "ne morning, whenoGregor Samse whke from troubl d dreamse we found himse f transformed in his bed dnt"
          ],
          "name": "stdout"
        }
      ]
    },
    {
      "cell_type": "code",
      "metadata": {
        "id": "QSbqVOm2E5e-",
        "colab_type": "code",
        "colab": {}
      },
      "source": [
        ""
      ],
      "execution_count": 0,
      "outputs": []
    }
  ]
}